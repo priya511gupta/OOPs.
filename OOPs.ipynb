{
  "nbformat": 4,
  "nbformat_minor": 0,
  "metadata": {
    "colab": {
      "provenance": []
    },
    "kernelspec": {
      "name": "python3",
      "display_name": "Python 3"
    },
    "language_info": {
      "name": "python"
    }
  },
  "cells": [
    {
      "cell_type": "markdown",
      "source": [
        " **OOPs**"
      ],
      "metadata": {
        "id": "GWpuUBPE-aZk"
      }
    },
    {
      "cell_type": "markdown",
      "source": [
        "Question 1.  What is Object-Oriented Programming (OOP)?\n",
        "\n",
        "Answer - Object-Oriented Programming (OOP) is a programming paradigm (or style of coding) that organizes software design around objects rather than just functions and logic.\n",
        "\n",
        "An object is a self-contained unit that bundles together:\n",
        "\n",
        "Data → called attributes or properties\n",
        "\n",
        "Behavior → called methods (functions that operate on the data)\n",
        "\n",
        "OOP focuses on modeling real-world entities in code so programs are easier to design, maintain, and scale.\n",
        "\n",
        "Question 2.  What is a class in OOP?\n",
        "\n",
        "Answer - In Object-Oriented Programming (OOP), a class is a blueprint or template for creating objects.\n",
        "\n",
        "It defines:\n",
        "\n",
        "Attributes (data) → Variables that store the object’s state.\n",
        "\n",
        "Methods (functions) → Actions or behaviors the object can perform.\n",
        "\n",
        "A class does not store actual data itself — it just describes what an object will look like and how it will behave.\n",
        "When you create an object from a class, you get an instance with its own data and methods.\n",
        "\n",
        "Question 3. What is an object in OOP?\n",
        "\n",
        "Answer - In Object-Oriented Programming (OOP), an object is an instance of a class.\n",
        "\n",
        "It is a real, usable entity created from the class blueprint, containing:\n",
        "\n",
        "Its own data (stored in attributes)\n",
        "\n",
        "Its own behavior (methods it can perform)\n",
        "\n",
        "You can think of it like this:\n",
        "\n",
        "Class → blueprint of a house.\n",
        "\n",
        "Object → an actual built house based on that blueprint.\n",
        "\n",
        "Each object created from a class can have different values for its attributes but still share the same structure and behaviors.\n",
        "\n",
        "Question 4.  What is the difference between abstraction and encapsulation?\n",
        "\n",
        "Answer - In Object-Oriented Programming, abstraction and encapsulation are related but distinct concepts. Abstraction is the process of hiding unnecessary implementation details from the user and showing only the essential features of an object. It focuses on what an object does rather than how it does it, allowing programmers to work with simplified interfaces without worrying about the underlying complexity. In contrast, encapsulation is the practice of bundling data (attributes) and methods (functions) that operate on that data into a single unit, and restricting direct access to the data using access modifiers like private, protected, or public. While abstraction deals with designing a clean and simplified interface, encapsulation deals with protecting the internal state of an object and controlling how it is accessed or modified. In short, abstraction is about hiding the implementation, while encapsulation is about hiding the internal data and ensuring controlled access to it.\n",
        "\n",
        "Question 5. What are dunder methods in Python?\n",
        "\n",
        "Answer - In Python, dunder methods (short for double underscore methods) are special built-in methods whose names start and end with double underscores (__method__).\n",
        "\n",
        "They are sometimes called magic methods because Python uses them internally to implement certain behaviors, but you can also override them in your classes to customize how your objects work.\n",
        "\n",
        "Question 6. Explain the concept of inheritance in OOP.\n",
        "\n",
        "Answer - Inheritance in Object-Oriented Programming (OOP) is a mechanism that allows one class (child or subclass) to acquire the properties (attributes) and behaviors (methods) of another class (parent or superclass).\n",
        "\n",
        "It promotes code reusability because instead of writing the same code again, you can create a new class that inherits from an existing one and extend or modify its functionality.\n",
        "\n",
        "Question 7. What is polymorphism in OOP?\n",
        "\n",
        "Answer - Polymorphism in Object-Oriented Programming (OOP) means \"many forms\" — it allows a single interface (method or operation) to work in different ways depending on the object that calls it.\n",
        "\n",
        "In simple terms, polymorphism lets you use the same method name for different types of objects, but each object can have its own specific implementation of that method.\n",
        "\n",
        "Question 8. How is encapsulation achieved in Python?\n",
        "\n",
        "Answer - In Python, encapsulation is achieved by restricting direct access to an object's data and controlling it through methods.\n",
        "\n",
        "Although Python doesn’t have strict access modifiers like private or protected in Java or C++, it uses naming conventions to indicate the intended level of access.\n",
        "\n",
        "Question 9. What is a constructor in Python?\n",
        "\n",
        "Answer - In Python, a constructor is a special method used to initialize an object when it is created from a class.\n",
        "\n",
        "The constructor method in Python is named __init__, and it is automatically called as soon as a new object is created.\n",
        "\n",
        "Question 10 - What are class and static methods in Python?\n",
        "\n",
        "Answer - In Python, class methods and static methods are special kinds of methods that belong to a class rather than a specific object instance, but they serve different purposes.\n",
        "\n",
        "1. Class Methods (@classmethod)\n",
        "Belong to the class itself rather than a specific object.\n",
        "\n",
        "The first parameter is cls (referring to the class).\n",
        "\n",
        "Can access and modify class-level variables.\n",
        "\n",
        "Defined using the @classmethod decorator.\n",
        "\n",
        "2. Static Methods (@staticmethod)\n",
        "Do not take self or cls as the first parameter.\n",
        "\n",
        "Cannot access instance variables or class variables directly.\n",
        "\n",
        "Used for utility/helper functions related to the class.\n",
        "\n",
        "Defined using the @staticmethod decorator.\n",
        "\n",
        "Question 11 -  What is method overloading in Python?\n",
        "\n",
        "Answer - Method overloading in programming means having multiple methods with the same name but different parameters in the same class.\n",
        "\n",
        "In languages like Java or C++, the compiler can differentiate between them based on the number or type of arguments.\n",
        "\n",
        "However, Python does not support traditional method overloading — if you define multiple methods with the same name, the latest one overwrites the previous ones.\n",
        "\n",
        "Question 12 - What is method overriding in OOP?\n",
        "\n",
        "Answer - Method overriding in Object-Oriented Programming (OOP) occurs when a subclass (child class) provides its own implementation of a method that is already defined in its superclass (parent class).\n",
        "\n",
        "The method name, parameters, and return type must be the same, but the behavior can be different.\n",
        "\n",
        "Question 13 - What is a property decorator in Python?\n",
        "\n",
        "Answer - In Python, the @property decorator is used to make a method behave like an attribute.\n",
        "\n",
        "It allows you to define a method that can be accessed like a variable without explicitly calling it with parentheses, and it’s commonly used for getter, setter, and deleter functionality while keeping encapsulation.\n",
        "\n",
        "Question 14 - Why is polymorphism important in OOP?\n",
        "\n",
        "Answer -Polymorphism is important in Object-Oriented Programming (OOP) because it makes code more flexible, reusable, and easier to maintain by allowing the same operation or method call to work differently depending on the object that uses it.\n",
        "\n",
        "Question 15 - What is an abstract class in Python?\n",
        "\n",
        "Answer - An abstract class in Python is a class that cannot be instantiated directly and is meant to be used as a blueprint for other classes.\n",
        "\n",
        "It can contain:\n",
        "\n",
        "Abstract methods → methods declared but not implemented (subclasses must implement them).\n",
        "\n",
        "Concrete methods → methods with implementation (can be inherited as-is or overridden).\n",
        "\n",
        "Abstract classes are used when you want to enforce a common interface across multiple subclasses.\n",
        "\n",
        "Question 16 - What are the advantages of OOP?\n",
        "\n",
        "Answer - Advantages of Object-Oriented Programming (OOP)\n",
        "\n",
        "Object-Oriented Programming offers several benefits that make software development easier to manage, maintain, and scale:\n",
        "\n",
        "1. Modularity\n",
        "Code is organized into classes and objects, making it easier to understand and manage.\n",
        "\n",
        "You can work on one part of the program without affecting others.\n",
        "\n",
        "2. Reusability\n",
        "Once a class is written, it can be reused in other programs or projects without rewriting the code.\n",
        "\n",
        "Inheritance allows new classes to be built upon existing ones, saving development time.\n",
        "\n",
        "3. Scalability and Maintainability\n",
        "Large projects can be broken into smaller, manageable parts.\n",
        "\n",
        "Changes can be made to individual classes without affecting the entire codebase.\n",
        "\n",
        "4. Encapsulation (Data Security)\n",
        "Data is hidden inside objects and accessed only through methods, preventing accidental modification.\n",
        "\n",
        "Access modifiers (public, protected, private) control visibility.\n",
        "\n",
        "Question 17 - What is the difference between a class variable and an instance variable?\n",
        "\n",
        "Answer - In Object-Oriented Programming (OOP), a class variable and an instance variable differ in scope, storage, and usage.\n",
        "\n",
        "1. Class Variable\n",
        "Belongs to the class itself (shared by all objects of the class).\n",
        "\n",
        "Defined inside the class but outside any methods.\n",
        "\n",
        "Changing it affects all instances (unless overridden in a specific object).\n",
        "\n",
        "2. Instance Variable\n",
        "Belongs to a specific object (each object has its own copy).\n",
        "\n",
        "Defined inside the constructor (__init__) or other instance methods using self.\n",
        "\n",
        "Changing it affects only that specific object.\n",
        "\n",
        "Question 18 - What is multiple inheritance in Python?\n",
        "\n",
        "Answer - Multiple inheritance in Python is a feature where a class can inherit attributes and methods from more than one parent class.\n",
        "\n",
        "This allows a child class to combine and use functionality from multiple sources, but it can also create complexity if parent classes have methods with the same name.\n",
        "\n",
        "Question 19 - Explain the purpose of ‘’__str__’ and ‘__repr__’ ‘ methods in Python.\n",
        "\n",
        "Answer - In Python, __str__ and __repr__ are dunder (double underscore) methods used to define how an object is represented as a string.\n",
        "They serve different purposes—one for human-readable output and the other for developer/debugging purposes.\n",
        "\n",
        "1. __str__ → Human-readable representation\n",
        "Purpose: Returns a user-friendly or informal string representation of the object.\n",
        "\n",
        "Used when you call:\n",
        "\n",
        "print(object)\n",
        "\n",
        "str(object)\n",
        "\n",
        "Should be readable and descriptive for end-users.\n",
        "\n",
        "2. __repr__ → Official/developer representation\n",
        "Purpose: Returns a developer-friendly or formal string representation of the object.\n",
        "\n",
        "Used when you call:\n",
        "\n",
        "repr(object)\n",
        "\n",
        "Or directly in the Python shell without print()\n",
        "\n",
        "Ideally, the string should be unambiguous and, if possible, valid Python code that can recreate the object.\n",
        "\n",
        "Question 20 -  What is the significance of the ‘super()’ function in Python?\n",
        "\n",
        "Answer -In Python, the super() function is used to call methods from a parent (or superclass) inside a child (or subclass) without explicitly naming the parent class.\n",
        "\n",
        "It’s especially important in inheritance because it allows you to reuse and extend functionality from parent classes in a clean, maintainable way.\n",
        "\n",
        "Question 21 - What is the significance of the __del__ method in Python?\n",
        "\n",
        "Answer -In Python, the __del__ method is a destructor — it is called automatically when an object is about to be destroyed (i.e., when it’s no longer in use and is about to be garbage-collected).\n",
        "\n",
        "Its main purpose is to allow you to define cleanup actions, like closing files, releasing network connections, or freeing up other external resources before the object is removed from memory.\n",
        "\n",
        "Question 22 -  What is the difference between @staticmethod and @classmethod in Python?\n",
        "\n",
        "Answer - In Python, @staticmethod and @classmethod are both method decorators used to define methods inside a class that are not the same as regular instance methods, but they differ in how they work and what they can access.\n",
        "\n",
        "1. @staticmethod\n",
        "Belongs to the class but does not take self or cls as the first argument.\n",
        "\n",
        "Cannot access instance attributes (self) or class attributes (cls) directly.\n",
        "\n",
        "Works like a regular function that just happens to live inside a class.\n",
        "\n",
        "Useful when the method logic is related to the class but doesn’t need class or instance data.\n",
        "\n",
        "2. @classmethod\n",
        "Belongs to the class and takes cls as the first argument.\n",
        "\n",
        "Can access and modify class-level attributes.\n",
        "\n",
        "Useful for creating factory methods or when you need to operate on the class itself rather than an instance.\n",
        "\n",
        "Question 23 -  How does polymorphism work in Python with inheritance?\n",
        "\n",
        "Answer - In Python, polymorphism with inheritance means that the same method name can have different behaviors depending on which class is calling it.\n",
        "\n",
        "When a subclass overrides a method from its parent class, Python decides at runtime which version of the method to execute — this is called runtime polymorphism.\n",
        "\n",
        "Question 24 -  What is method chaining in Python OOP?\n",
        "\n",
        "Answer - Method chaining in Python OOP is a technique where multiple methods are called on the same object in a single line, one after the other, because each method returns the object itself (usually self).\n",
        "\n",
        "This allows a more concise and readable style of coding, especially when performing a sequence of related operations.\n",
        "\n",
        "Question 25 - What is the purpose of the __call__ method in Python?\n",
        "\n",
        "Answer - In Python, the __call__ method allows an object (instance of a class) to be called like a function.\n",
        "\n",
        "If a class defines __call__(), then calling its instance using parentheses () will automatically invoke that method.\n",
        "\n",
        "Purpose\n",
        "To make objects behave like functions (also known as callable objects).\n",
        "\n",
        "Useful for function objects, caching, decorators, or creating stateful functions.\n"
      ],
      "metadata": {
        "id": "2t3daWxz-lxb"
      }
    },
    {
      "cell_type": "code",
      "source": [
        "#1  Create a parent class Animal with a method speak() that prints a generic message. Create a child class Dog that overrides the speak() method to print \"Bark!\".\n",
        "\n",
        "# Parent class\n",
        "class Animal:\n",
        "    def speak(self):\n",
        "        print(\"The animal makes a sound.\")\n",
        "\n",
        "# Child class\n",
        "class Dog(Animal):\n",
        "    def speak(self):\n",
        "        print(\"Bark!\")\n",
        "\n",
        "# Create objects\n",
        "animal = Animal()\n",
        "dog = Dog()\n",
        "\n",
        "# Call methods\n",
        "animal.speak()  # Output: The animal makes a sound.\n",
        "dog.speak()     # Output: Bark!\n"
      ],
      "metadata": {
        "colab": {
          "base_uri": "https://localhost:8080/"
        },
        "id": "zewoFULDVFW3",
        "outputId": "2c86460d-5a41-46ca-a216-a19cb72694ae"
      },
      "execution_count": 1,
      "outputs": [
        {
          "output_type": "stream",
          "name": "stdout",
          "text": [
            "The animal makes a sound.\n",
            "Bark!\n"
          ]
        }
      ]
    },
    {
      "cell_type": "code",
      "source": [
        "#2 Write a program to create an abstract class Shape with a method area(). Derive classes Circle and Rectangle from it and implement the area() method in both.\n",
        "\n",
        "from abc import ABC, abstractmethod\n",
        "import math\n",
        "\n",
        "# Abstract class\n",
        "class Shape(ABC):\n",
        "    @abstractmethod\n",
        "    def area(self):\n",
        "        pass\n",
        "\n",
        "# Circle class\n",
        "class Circle(Shape):\n",
        "    def __init__(self, radius):\n",
        "        self.radius = radius\n",
        "\n",
        "    def area(self):\n",
        "        return math.pi * (self.radius ** 2)\n",
        "\n",
        "# Rectangle class\n",
        "class Rectangle(Shape):\n",
        "    def __init__(self, width, height):\n",
        "        self.width = width\n",
        "        self.height = height\n",
        "\n",
        "    def area(self):\n",
        "        return self.width * self.height\n",
        "\n",
        "# Example usage\n",
        "circle = Circle(5)\n",
        "rectangle = Rectangle(4, 6)\n",
        "\n",
        "print(f\"Circle area: {circle.area():.2f}\")      # Circle area: 78.54\n",
        "print(f\"Rectangle area: {rectangle.area()}\")   # Rectangle area: 24\n"
      ],
      "metadata": {
        "colab": {
          "base_uri": "https://localhost:8080/"
        },
        "id": "wr19WaNhVQCv",
        "outputId": "3810236d-10ca-45fc-84e9-2fdeb83f3685"
      },
      "execution_count": 2,
      "outputs": [
        {
          "output_type": "stream",
          "name": "stdout",
          "text": [
            "Circle area: 78.54\n",
            "Rectangle area: 24\n"
          ]
        }
      ]
    },
    {
      "cell_type": "code",
      "source": [
        "#3 Implement a multi-level inheritance scenario where a class Vehicle has an attribute type. Derive a class Car and further derive a class ElectricCar that adds a battery attribute.\n",
        "\n",
        "# Base class\n",
        "class Vehicle:\n",
        "    def __init__(self, vehicle_type):\n",
        "        self.vehicle_type = vehicle_type\n",
        "\n",
        "    def show_type(self):\n",
        "        print(f\"Vehicle Type: {self.vehicle_type}\")\n",
        "\n",
        "# Derived class\n",
        "class Car(Vehicle):\n",
        "    def __init__(self, vehicle_type, brand):\n",
        "        super().__init__(vehicle_type)\n",
        "        self.brand = brand\n",
        "\n",
        "    def show_brand(self):\n",
        "        print(f\"Car Brand: {self.brand}\")\n",
        "\n",
        "# Further derived class\n",
        "class ElectricCar(Car):\n",
        "    def __init__(self, vehicle_type, brand, battery_capacity):\n",
        "        super().__init__(vehicle_type, brand)\n",
        "        self.battery_capacity = battery_capacity\n",
        "\n",
        "    def show_battery(self):\n",
        "        print(f\"Battery Capacity: {self.battery_capacity} kWh\")\n",
        "\n",
        "# Example usage\n",
        "e_car = ElectricCar(\"Four-wheeler\", \"Tesla\", 75)\n",
        "\n",
        "e_car.show_type()       # From Vehicle\n",
        "e_car.show_brand()      # From Car\n",
        "e_car.show_battery()    # From ElectricCar\n"
      ],
      "metadata": {
        "colab": {
          "base_uri": "https://localhost:8080/"
        },
        "id": "Qo7nftyqVZYH",
        "outputId": "08c70872-2c3b-4a56-bbf2-d8280eb0a31a"
      },
      "execution_count": 3,
      "outputs": [
        {
          "output_type": "stream",
          "name": "stdout",
          "text": [
            "Vehicle Type: Four-wheeler\n",
            "Car Brand: Tesla\n",
            "Battery Capacity: 75 kWh\n"
          ]
        }
      ]
    },
    {
      "cell_type": "code",
      "source": [
        "#4  Demonstrate polymorphism by creating a base class Bird with a method fly(). Create two derived classes Sparrow and Penguin that override the fly() method.\n",
        "\n",
        "# Base class\n",
        "class Bird:\n",
        "    def fly(self):\n",
        "        print(\"This bird can fly in a general way.\")\n",
        "\n",
        "# Derived class\n",
        "class Sparrow(Bird):\n",
        "    def fly(self):\n",
        "        print(\"Sparrow is flying high in the sky!\")\n",
        "\n",
        "# Derived class\n",
        "class Penguin(Bird):\n",
        "    def fly(self):\n",
        "        print(\"Penguins cannot fly, they swim instead!\")\n",
        "\n",
        "# Function to demonstrate polymorphism\n",
        "def show_flight(bird):\n",
        "    bird.fly()\n",
        "\n",
        "# Creating objects\n",
        "sparrow = Sparrow()\n",
        "penguin = Penguin()\n",
        "\n",
        "# Using the same interface (fly) for different behaviors\n",
        "show_flight(sparrow)   # Sparrow's version of fly()\n",
        "show_flight(penguin)   # Penguin's version of fly()\n"
      ],
      "metadata": {
        "colab": {
          "base_uri": "https://localhost:8080/"
        },
        "id": "tN96M2rEVmHX",
        "outputId": "f57eaa28-29da-4099-af1c-d9e4e4cb12f8"
      },
      "execution_count": 4,
      "outputs": [
        {
          "output_type": "stream",
          "name": "stdout",
          "text": [
            "Sparrow is flying high in the sky!\n",
            "Penguins cannot fly, they swim instead!\n"
          ]
        }
      ]
    },
    {
      "cell_type": "code",
      "source": [
        "#5 Write a program to demonstrate encapsulation by creating a class BankAccount with private attributes balance and methods to deposit, withdraw, and check balance.\n",
        "\n",
        "class BankAccount:\n",
        "    def __init__(self, initial_balance=0):\n",
        "        self.__balance = initial_balance  # Private attribute\n",
        "\n",
        "    # Deposit method\n",
        "    def deposit(self, amount):\n",
        "        if amount > 0:\n",
        "            self.__balance += amount\n",
        "            print(f\"Deposited: {amount}\")\n",
        "        else:\n",
        "            print(\"Deposit amount must be positive.\")\n",
        "\n",
        "    # Withdraw method\n",
        "    def withdraw(self, amount):\n",
        "        if 0 < amount <= self.__balance:\n",
        "            self.__balance -= amount\n",
        "            print(f\"Withdrew: {amount}\")\n",
        "        else:\n",
        "            print(\"Insufficient funds or invalid amount.\")\n",
        "\n",
        "    # Check balance method\n",
        "    def check_balance(self):\n",
        "        print(f\"Current Balance: {self.__balance}\")\n",
        "\n",
        "\n",
        "# Usage\n",
        "account = BankAccount(1000)  # Opening account with 1000\n",
        "account.deposit(500)         # Deposit 500\n",
        "account.withdraw(300)        # Withdraw 300\n",
        "account.check_balance()      # Show balance\n",
        "\n",
        "# Trying to access private variable directly (will fail)\n",
        "# print(account.__balance)   # AttributeError\n"
      ],
      "metadata": {
        "colab": {
          "base_uri": "https://localhost:8080/"
        },
        "id": "b_8VcBeXVv9u",
        "outputId": "28024e53-47e4-4414-e328-d51a1c82beb5"
      },
      "execution_count": 5,
      "outputs": [
        {
          "output_type": "stream",
          "name": "stdout",
          "text": [
            "Deposited: 500\n",
            "Withdrew: 300\n",
            "Current Balance: 1200\n"
          ]
        }
      ]
    },
    {
      "cell_type": "code",
      "source": [
        "#6  Demonstrate runtime polymorphism using a method play() in a base class Instrument. Derive classes Guitar and Piano that implement their own version of play().\n",
        "\n",
        "# Base class\n",
        "class Instrument:\n",
        "    def play(self):\n",
        "        print(\"Playing an instrument...\")\n",
        "\n",
        "# Derived class 1\n",
        "class Guitar(Instrument):\n",
        "    def play(self):\n",
        "        print(\"Strumming the guitar 🎸\")\n",
        "\n",
        "# Derived class 2\n",
        "class Piano(Instrument):\n",
        "    def play(self):\n",
        "        print(\"Playing the piano 🎹\")\n",
        "\n",
        "# Function to demonstrate polymorphism\n",
        "def start_playing(instrument):\n",
        "    instrument.play()\n",
        "\n",
        "# Usage\n",
        "instruments = [Guitar(), Piano()]\n",
        "\n",
        "for inst in instruments:\n",
        "    start_playing(inst)  # Runtime decides which play() to call\n"
      ],
      "metadata": {
        "colab": {
          "base_uri": "https://localhost:8080/"
        },
        "id": "UGe-YSf-V7Fv",
        "outputId": "fc81a4a4-15c5-416d-a8a8-7e1239508636"
      },
      "execution_count": 6,
      "outputs": [
        {
          "output_type": "stream",
          "name": "stdout",
          "text": [
            "Strumming the guitar 🎸\n",
            "Playing the piano 🎹\n"
          ]
        }
      ]
    },
    {
      "cell_type": "code",
      "source": [
        "#7 Create a class MathOperations with a class method add_numbers() to add two numbers and a static method subtract_numbers() to subtract two numbers.\n",
        "\n",
        "class MathOperations:\n",
        "\n",
        "    @classmethod\n",
        "    def add_numbers(cls, a, b):\n",
        "        \"\"\"Class method to add two numbers\"\"\"\n",
        "        return a + b\n",
        "\n",
        "    @staticmethod\n",
        "    def subtract_numbers(a, b):\n",
        "        \"\"\"Static method to subtract two numbers\"\"\"\n",
        "        return a - b\n",
        "\n",
        "\n",
        "# Usage\n",
        "print(\"Addition:\", MathOperations.add_numbers(10, 5))   # Class method call\n",
        "print(\"Subtraction:\", MathOperations.subtract_numbers(10, 5))  # Static method call\n"
      ],
      "metadata": {
        "colab": {
          "base_uri": "https://localhost:8080/"
        },
        "id": "RkQXbcIhWEHn",
        "outputId": "90193128-6b0c-4c1f-eb33-6f0bed8d1921"
      },
      "execution_count": 7,
      "outputs": [
        {
          "output_type": "stream",
          "name": "stdout",
          "text": [
            "Addition: 15\n",
            "Subtraction: 5\n"
          ]
        }
      ]
    },
    {
      "cell_type": "code",
      "source": [
        "#8 Implement a class Person with a class method to count the total number of persons created.\n",
        "\n",
        "class Person:\n",
        "    # Class variable to keep count of persons\n",
        "    count = 0\n",
        "\n",
        "    def __init__(self, name):\n",
        "        self.name = name\n",
        "        Person.count += 1  # Increment count whenever a new object is created\n",
        "\n",
        "    @classmethod\n",
        "    def get_person_count(cls):\n",
        "        \"\"\"Class method to return the number of Person instances created\"\"\"\n",
        "        return cls.count\n",
        "\n",
        "\n",
        "# Creating Person objects\n",
        "p1 = Person(\"Alice\")\n",
        "p2 = Person(\"Bob\")\n",
        "p3 = Person(\"Charlie\")\n",
        "\n",
        "# Using the class method to get total count\n",
        "print(\"Total persons created:\", Person.get_person_count())\n"
      ],
      "metadata": {
        "colab": {
          "base_uri": "https://localhost:8080/"
        },
        "id": "kUDDAIZXWOln",
        "outputId": "9becb714-cb3f-4aa4-d36b-a2e0aa7e7220"
      },
      "execution_count": 8,
      "outputs": [
        {
          "output_type": "stream",
          "name": "stdout",
          "text": [
            "Total persons created: 3\n"
          ]
        }
      ]
    },
    {
      "cell_type": "code",
      "source": [
        "#9 Write a class Fraction with attributes numerator and denominator. Override the str method to display the fraction as \"numerator/denominator\".\n",
        "\n",
        "class Fraction:\n",
        "    def __init__(self, numerator, denominator):\n",
        "        self.numerator = numerator\n",
        "        self.denominator = denominator\n",
        "\n",
        "    def __str__(self):\n",
        "        \"\"\"Return the fraction in 'numerator/denominator' format.\"\"\"\n",
        "        return f\"{self.numerator}/{self.denominator}\"\n",
        "\n",
        "\n",
        "# Example usage\n",
        "f1 = Fraction(3, 4)\n",
        "f2 = Fraction(7, 2)\n",
        "\n",
        "print(f1)  # Output: 3/4\n",
        "print(f2)  # Output: 7/2\n"
      ],
      "metadata": {
        "colab": {
          "base_uri": "https://localhost:8080/"
        },
        "id": "crCcvzmrWW23",
        "outputId": "ef42176e-b569-4e06-fe97-1dac2576a867"
      },
      "execution_count": 9,
      "outputs": [
        {
          "output_type": "stream",
          "name": "stdout",
          "text": [
            "3/4\n",
            "7/2\n"
          ]
        }
      ]
    },
    {
      "cell_type": "code",
      "source": [
        "#10  Demonstrate operator overloading by creating a class Vector and overriding the add method to add two vectors.\n",
        "\n",
        "class Vector:\n",
        "    def __init__(self, x, y):\n",
        "        self.x = x\n",
        "        self.y = y\n",
        "\n",
        "    def __add__(self, other):\n",
        "        \"\"\"Overload the + operator to add two vectors.\"\"\"\n",
        "        return Vector(self.x + other.x, self.y + other.y)\n",
        "\n",
        "    def __str__(self):\n",
        "        \"\"\"Return the vector in readable form.\"\"\"\n",
        "        return f\"Vector({self.x}, {self.y})\"\n",
        "\n",
        "\n",
        "# Example usage\n",
        "v1 = Vector(2, 3)\n",
        "v2 = Vector(4, 5)\n",
        "\n",
        "v3 = v1 + v2  # Uses overloaded __add__ method\n",
        "print(v3)     # Output: Vector(6, 8)\n",
        "\n"
      ],
      "metadata": {
        "colab": {
          "base_uri": "https://localhost:8080/"
        },
        "id": "8AKqsA4DWgOG",
        "outputId": "3498aaef-428f-45d5-baf1-395f093857e2"
      },
      "execution_count": 10,
      "outputs": [
        {
          "output_type": "stream",
          "name": "stdout",
          "text": [
            "Vector(6, 8)\n"
          ]
        }
      ]
    },
    {
      "cell_type": "code",
      "source": [
        "#11  Create a class Person with attributes name and age. Add a method greet() that prints \"Hello, my name is {name} and I am {age} years old.\"\n",
        "\n",
        "class Person:\n",
        "    def __init__(self, name, age):\n",
        "        self.name = name\n",
        "        self.age = age\n",
        "\n",
        "    def greet(self):\n",
        "        print(f\"Hello, my name is {self.name} and I am {self.age} years old.\")\n",
        "\n",
        "\n",
        "# Example usage\n",
        "p1 = Person(\"Alice\", 25)\n",
        "p1.greet()  # Output: Hello, my name is Alice and I am 25 years old.\n"
      ],
      "metadata": {
        "colab": {
          "base_uri": "https://localhost:8080/"
        },
        "id": "_IxggV7PXH-H",
        "outputId": "5b413b56-1545-4c58-f3c2-1f706721001b"
      },
      "execution_count": 11,
      "outputs": [
        {
          "output_type": "stream",
          "name": "stdout",
          "text": [
            "Hello, my name is Alice and I am 25 years old.\n"
          ]
        }
      ]
    },
    {
      "cell_type": "code",
      "source": [
        "#12 Implement a class Student with attributes name and grades. Create a method average_grade() to compute the average of the grades.\n",
        "\n",
        "class Student:\n",
        "    def __init__(self, name, grades):\n",
        "        self.name = name\n",
        "        self.grades = grades  # list of grades\n",
        "\n",
        "    def average_grade(self):\n",
        "        if len(self.grades) == 0:\n",
        "            return 0\n",
        "        return sum(self.grades) / len(self.grades)\n",
        "\n",
        "\n",
        "# Example usage\n",
        "student1 = Student(\"Alice\", [85, 90, 78, 92])\n",
        "print(f\"Average grade for {student1.name}: {student1.average_grade():.2f}\")\n",
        "\n"
      ],
      "metadata": {
        "colab": {
          "base_uri": "https://localhost:8080/"
        },
        "id": "8kjJsu9DXQtH",
        "outputId": "5c5fda00-ce7a-4c80-f40f-fa8400bc7074"
      },
      "execution_count": 13,
      "outputs": [
        {
          "output_type": "stream",
          "name": "stdout",
          "text": [
            "Average grade for Alice: 86.25\n"
          ]
        }
      ]
    },
    {
      "cell_type": "code",
      "source": [
        "#13  Create a class Rectangle with methods set_dimensions() to set the dimensions and area() to calculate the area.\n",
        "\n",
        "class Rectangle:\n",
        "    def __init__(self):\n",
        "        self.length = 0\n",
        "        self.width = 0\n",
        "\n",
        "    def set_dimensions(self, length, width):\n",
        "        self.length = length\n",
        "        self.width = width\n",
        "\n",
        "    def area(self):\n",
        "        return self.length * self.width\n",
        "\n",
        "\n",
        "# Example usage\n",
        "rect = Rectangle()\n",
        "rect.set_dimensions(5, 3)\n",
        "print(f\"Area of rectangle: {rect.area()}\")\n"
      ],
      "metadata": {
        "colab": {
          "base_uri": "https://localhost:8080/"
        },
        "id": "iWZNstRsXw0n",
        "outputId": "471170e3-e9e2-425c-8086-79d09918db78"
      },
      "execution_count": 14,
      "outputs": [
        {
          "output_type": "stream",
          "name": "stdout",
          "text": [
            "Area of rectangle: 15\n"
          ]
        }
      ]
    },
    {
      "cell_type": "code",
      "source": [
        "#14  Create a class Employee with a method calculate_salary() that computes the salary based on hours worked and hourly rate. Create a derived class Manager that adds a bonus to the salary.\n",
        "\n",
        "class Employee:\n",
        "    def __init__(self, hours_worked, hourly_rate):\n",
        "        self.hours_worked = hours_worked\n",
        "        self.hourly_rate = hourly_rate\n",
        "\n",
        "    def calculate_salary(self):\n",
        "        return self.hours_worked * self.hourly_rate\n",
        "\n",
        "\n",
        "class Manager(Employee):\n",
        "    def __init__(self, hours_worked, hourly_rate, bonus):\n",
        "        super().__init__(hours_worked, hourly_rate)\n",
        "        self.bonus = bonus\n",
        "\n",
        "    def calculate_salary(self):\n",
        "        return super().calculate_salary() + self.bonus\n",
        "\n",
        "\n",
        "# Example usage\n",
        "emp = Employee(40, 20)\n",
        "print(f\"Employee Salary: ${emp.calculate_salary()}\")\n",
        "\n",
        "mgr = Manager(40, 30, 500)\n",
        "print(f\"Manager Salary: ${mgr.calculate_salary()}\")\n"
      ],
      "metadata": {
        "colab": {
          "base_uri": "https://localhost:8080/"
        },
        "id": "Pb_d0sDSY8-n",
        "outputId": "4e01febf-e3af-4572-d72f-ad2d3b44cf7c"
      },
      "execution_count": 15,
      "outputs": [
        {
          "output_type": "stream",
          "name": "stdout",
          "text": [
            "Employee Salary: $800\n",
            "Manager Salary: $1700\n"
          ]
        }
      ]
    },
    {
      "cell_type": "code",
      "source": [
        "#15 Create a class Product with attributes name, price, and quantity. Implement a method total_price() that calculates the total price of the product.\n",
        "\n",
        "class Product:\n",
        "    def __init__(self, name, price, quantity):\n",
        "        self.name = name\n",
        "        self.price = price\n",
        "        self.quantity = quantity\n",
        "\n",
        "    def total_price(self):\n",
        "        return self.price * self.quantity\n",
        "\n",
        "\n",
        "# Example usage\n",
        "product1 = Product(\"Laptop\", 50000, 2)\n",
        "print(f\"Product: {product1.name}\")\n",
        "print(f\"Total Price: ₹{product1.total_price()}\")\n"
      ],
      "metadata": {
        "colab": {
          "base_uri": "https://localhost:8080/"
        },
        "id": "3g80PHraZHlP",
        "outputId": "8e013c01-eb4d-4c16-f622-fd074a1eb375"
      },
      "execution_count": 16,
      "outputs": [
        {
          "output_type": "stream",
          "name": "stdout",
          "text": [
            "Product: Laptop\n",
            "Total Price: ₹100000\n"
          ]
        }
      ]
    },
    {
      "cell_type": "code",
      "source": [
        "#16 Create a class Animal with an abstract method sound(). Create two derived classes Cow and Sheep that implement the sound() method.\n",
        "\n",
        "from abc import ABC, abstractmethod\n",
        "\n",
        "# Abstract Base Class\n",
        "class Animal(ABC):\n",
        "    @abstractmethod\n",
        "    def sound(self):\n",
        "        pass\n",
        "\n",
        "# Derived Class - Cow\n",
        "class Cow(Animal):\n",
        "    def sound(self):\n",
        "        return \"Moo!\"\n",
        "\n",
        "# Derived Class - Sheep\n",
        "class Sheep(Animal):\n",
        "    def sound(self):\n",
        "        return \"Baa!\"\n",
        "\n",
        "\n",
        "# Example usage\n",
        "cow = Cow()\n",
        "sheep = Sheep()\n",
        "\n",
        "print(\"Cow says:\", cow.sound())\n",
        "print(\"Sheep says:\", sheep.sound())\n"
      ],
      "metadata": {
        "colab": {
          "base_uri": "https://localhost:8080/"
        },
        "id": "hbAF1wVoZSFv",
        "outputId": "678b6dcc-dce1-4a61-9289-ac2897edff57"
      },
      "execution_count": 17,
      "outputs": [
        {
          "output_type": "stream",
          "name": "stdout",
          "text": [
            "Cow says: Moo!\n",
            "Sheep says: Baa!\n"
          ]
        }
      ]
    },
    {
      "cell_type": "code",
      "source": [
        "#17 Create a class Book with attributes title, author, and year_published. Add a method get_book_info() that returns a formatted string with the book's details.\n",
        "\n",
        "class Book:\n",
        "    def __init__(self, title, author, year_published):\n",
        "        self.title = title\n",
        "        self.author = author\n",
        "        self.year_published = year_published\n",
        "\n",
        "    def get_book_info(self):\n",
        "        return f\"'{self.title}' by {self.author}, published in {self.year_published}\"\n",
        "\n",
        "\n",
        "# Example usage\n",
        "book1 = Book(\"To Kill a Mockingbird\", \"Harper Lee\", 1960)\n",
        "book2 = Book(\"1984\", \"George Orwell\", 1949)\n",
        "\n",
        "print(book1.get_book_info())\n",
        "print(book2.get_book_info())\n"
      ],
      "metadata": {
        "colab": {
          "base_uri": "https://localhost:8080/"
        },
        "id": "dFEaoYL6Zf3-",
        "outputId": "6e3b422a-0c8d-419d-986c-0fc3809ae53c"
      },
      "execution_count": 18,
      "outputs": [
        {
          "output_type": "stream",
          "name": "stdout",
          "text": [
            "'To Kill a Mockingbird' by Harper Lee, published in 1960\n",
            "'1984' by George Orwell, published in 1949\n"
          ]
        }
      ]
    },
    {
      "cell_type": "code",
      "source": [
        "#18  Create a class House with attributes address and price. Create a derived class Mansion that adds an attribute number_of_rooms.\n",
        "\n",
        "# Base class\n",
        "class House:\n",
        "    def __init__(self, address, price):\n",
        "        self.address = address\n",
        "        self.price = price\n",
        "\n",
        "    def get_info(self):\n",
        "        return f\"Address: {self.address}, Price: ₹{self.price}\"\n",
        "\n",
        "# Derived class\n",
        "class Mansion(House):\n",
        "    def __init__(self, address, price, number_of_rooms):\n",
        "        super().__init__(address, price)  # Call parent constructor\n",
        "        self.number_of_rooms = number_of_rooms\n",
        "\n",
        "    def get_info(self):\n",
        "        return f\"Address: {self.address}, Price: ₹{self.price}, Rooms: {self.number_of_rooms}\"\n",
        "\n",
        "\n",
        "# Example usage\n",
        "house1 = House(\"123 Green Street\", 5000000)\n",
        "mansion1 = Mansion(\"45 Royal Avenue\", 15000000, 10)\n",
        "\n",
        "print(house1.get_info())\n",
        "print(mansion1.get_info())\n"
      ],
      "metadata": {
        "colab": {
          "base_uri": "https://localhost:8080/"
        },
        "id": "88D4Yc83ZpuI",
        "outputId": "6d86080a-c6f6-407a-d3bd-9c52fd737f00"
      },
      "execution_count": 19,
      "outputs": [
        {
          "output_type": "stream",
          "name": "stdout",
          "text": [
            "Address: 123 Green Street, Price: ₹5000000\n",
            "Address: 45 Royal Avenue, Price: ₹15000000, Rooms: 10\n"
          ]
        }
      ]
    }
  ]
}